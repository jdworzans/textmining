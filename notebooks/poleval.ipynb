{
 "cells": [
  {
   "cell_type": "code",
   "execution_count": 1,
   "metadata": {},
   "outputs": [],
   "source": [
    "from functools import partial\n",
    "from itertools import product\n",
    "from pathlib import Path\n",
    "\n",
    "import editdistance\n",
    "from tqdm import tqdm\n",
    "\n",
    "from textmining.index import DiskIndex\n",
    "from textmining.lemmatization import Lemmas\n",
    "from textmining.tokenization import tokenize"
   ]
  },
  {
   "cell_type": "code",
   "execution_count": 2,
   "metadata": {},
   "outputs": [],
   "source": [
    "with open(\"../data/poleval/pytania.txt\") as f:\n",
    "    questions = list(map(str.strip, f.readlines()))\n",
    "with open(\"../data/poleval/odpowiedzi_baseline.txt\") as f:\n",
    "    baseline_answers = list(map(str.strip, f.readlines()))"
   ]
  },
  {
   "cell_type": "code",
   "execution_count": 3,
   "metadata": {},
   "outputs": [],
   "source": [
    "with open(\"../data/poleval/odpowiedzi.txt\") as f:\n",
    "    correct = [l.split(\"\\t\") for l in map(str.strip, f.readlines())]"
   ]
  },
  {
   "cell_type": "code",
   "execution_count": 4,
   "metadata": {},
   "outputs": [],
   "source": [
    "def scaled_editdist(ans, cor):\n",
    "    ans = ans.lower()\n",
    "    cor = cor.lower()\n",
    "\n",
    "    return editdistance.eval(ans, cor) / len(cor)\n",
    "    \n",
    "def is_correct(response, ground_truth):\n",
    "    if scaled_editdist(response, ground_truth) < 0.5:\n",
    "        return True\n",
    "    return False"
   ]
  },
  {
   "cell_type": "code",
   "execution_count": 5,
   "metadata": {},
   "outputs": [],
   "source": [
    "lemmas = Lemmas.from_file(Path(\"../data/lemmas.pickle\"))\n",
    "index = DiskIndex(lemmas.lemmatize, Path(\"../data/index\"))"
   ]
  },
  {
   "cell_type": "code",
   "execution_count": 6,
   "metadata": {},
   "outputs": [],
   "source": [
    "def search(query, title_importance=1, exact_importance=1, total_importance=1):\n",
    "    docs = index.search(query)\n",
    "    qtokens = tokenize(query.lower())\n",
    "    qlemmas = {lemma for token in qtokens for lemma in index.lemmatize(token)}\n",
    "    for doc in docs:\n",
    "        doc.title_matching = 0\n",
    "        doc.exact_matching = 0\n",
    "        for token in tokenize(doc.title):\n",
    "            lemmas = set(index.lemmatize(token.lower()))\n",
    "            if qlemmas.intersection(lemmas):\n",
    "                doc.title_matching += 1\n",
    "            if token.lower() in qtokens:\n",
    "                doc.exact_matching += 1\n",
    "\n",
    "        doc.total_matching = doc.title_matching\n",
    "        for token in tokenize(doc.content):\n",
    "            lemmas = set(index.lemmatize(token.lower()))\n",
    "            if qlemmas.intersection(lemmas):\n",
    "                doc.total_matching += 1\n",
    "            if token.lower() in qtokens:\n",
    "                doc.exact_matching += 1\n",
    "    return sorted(\n",
    "        docs, reverse=True,\n",
    "        key=lambda d: (\n",
    "            title_importance * d.title_matching\n",
    "            + exact_importance * d.exact_matching\n",
    "            + total_importance * d.total_matching\n",
    "        )\n",
    "    )"
   ]
  },
  {
   "cell_type": "code",
   "execution_count": 7,
   "metadata": {},
   "outputs": [],
   "source": [
    "def answer(question, title_importance=1, exact_importance=1, total_importance=1):\n",
    "    question_tokens = [token for token in tokenize(question.lower()) if len(token) > 1]\n",
    "    while question_tokens:\n",
    "        query = \" \".join(question_tokens)\n",
    "\n",
    "        for doc in search(query, title_importance, exact_importance, total_importance):\n",
    "            result = doc.title\n",
    "            res_tokens = tokenize(result.lower())\n",
    "\n",
    "            for t1, t2 in product(res_tokens, question_tokens):\n",
    "                if scaled_editdist(t1, t2) <= 0.5:\n",
    "                    break\n",
    "            else:\n",
    "                paren_index = result.find(\"(\")\n",
    "                if paren_index != -1:\n",
    "                    result = result[:paren_index]\n",
    "                return result\n",
    "        # if answer not found, remove first token of query\n",
    "        del question_tokens[0]\n",
    "    return \"nie mam pojęcia, sorry\""
   ]
  },
  {
   "cell_type": "code",
   "execution_count": 8,
   "metadata": {},
   "outputs": [],
   "source": [
    "def accuracy(answers):\n",
    "    n_correct = 0\n",
    "    for a, c in zip(answers, correct):\n",
    "        if any([is_correct(a, c_) for c_ in c]):\n",
    "            n_correct += 1\n",
    "    return n_correct / len(answers)"
   ]
  },
  {
   "cell_type": "code",
   "execution_count": 9,
   "metadata": {},
   "outputs": [
    {
     "data": {
      "text/plain": [
       "0.091"
      ]
     },
     "execution_count": 9,
     "metadata": {},
     "output_type": "execute_result"
    }
   ],
   "source": [
    "accuracy(baseline_answers)"
   ]
  },
  {
   "cell_type": "code",
   "execution_count": 10,
   "metadata": {},
   "outputs": [
    {
     "name": "stderr",
     "output_type": "stream",
     "text": [
      "1000it [06:31,  2.55it/s]\n"
     ]
    },
    {
     "data": {
      "text/plain": [
       "0.044"
      ]
     },
     "execution_count": 10,
     "metadata": {},
     "output_type": "execute_result"
    }
   ],
   "source": [
    "answers = list(tqdm(map(partial(answer, title_importance=1, exact_importance=1, total_importance=1), questions)))\n",
    "accuracy(answers)"
   ]
  },
  {
   "cell_type": "code",
   "execution_count": 11,
   "metadata": {},
   "outputs": [
    {
     "name": "stderr",
     "output_type": "stream",
     "text": [
      "1000it [06:39,  2.51it/s]\n"
     ]
    },
    {
     "data": {
      "text/plain": [
       "0.041"
      ]
     },
     "execution_count": 11,
     "metadata": {},
     "output_type": "execute_result"
    }
   ],
   "source": [
    "answers = list(tqdm(map(partial(answer, title_importance=1, exact_importance=1, total_importance=2), questions)))\n",
    "accuracy(answers)"
   ]
  },
  {
   "cell_type": "code",
   "execution_count": 12,
   "metadata": {},
   "outputs": [
    {
     "name": "stderr",
     "output_type": "stream",
     "text": [
      "1000it [06:42,  2.48it/s]\n"
     ]
    },
    {
     "data": {
      "text/plain": [
       "0.044"
      ]
     },
     "execution_count": 12,
     "metadata": {},
     "output_type": "execute_result"
    }
   ],
   "source": [
    "answers = list(tqdm(map(partial(answer, title_importance=1, exact_importance=2, total_importance=1), questions)))\n",
    "accuracy(answers)"
   ]
  },
  {
   "cell_type": "code",
   "execution_count": 13,
   "metadata": {},
   "outputs": [
    {
     "name": "stderr",
     "output_type": "stream",
     "text": [
      "1000it [06:46,  2.46it/s]\n"
     ]
    },
    {
     "data": {
      "text/plain": [
       "0.044"
      ]
     },
     "execution_count": 13,
     "metadata": {},
     "output_type": "execute_result"
    }
   ],
   "source": [
    "answers = list(tqdm(map(partial(answer, title_importance=2, exact_importance=1, total_importance=1), questions)))\n",
    "accuracy(answers)"
   ]
  },
  {
   "cell_type": "code",
   "execution_count": 14,
   "metadata": {},
   "outputs": [
    {
     "name": "stderr",
     "output_type": "stream",
     "text": [
      "1000it [06:39,  2.50it/s]\n"
     ]
    },
    {
     "data": {
      "text/plain": [
       "0.041"
      ]
     },
     "execution_count": 14,
     "metadata": {},
     "output_type": "execute_result"
    }
   ],
   "source": [
    "answers = list(tqdm(map(partial(answer, title_importance=0, exact_importance=0, total_importance=1), questions)))\n",
    "accuracy(answers)"
   ]
  },
  {
   "cell_type": "markdown",
   "metadata": {},
   "source": [
    "Który potwór zabijał wzrokiem?\n",
    "* Correct: Bazyliszek\n",
    "* Baseline: Bazyliszek\n",
    "* Solution: Herensugue"
   ]
  },
  {
   "cell_type": "code",
   "execution_count": null,
   "metadata": {},
   "outputs": [],
   "source": []
  }
 ],
 "metadata": {
  "interpreter": {
   "hash": "e10d8761d460a58c74b37693efebb76e1438d903d92f15b2b3c03e822d0a63b9"
  },
  "kernelspec": {
   "display_name": "Python 3.9.5 ('env': venv)",
   "language": "python",
   "name": "python3"
  },
  "language_info": {
   "codemirror_mode": {
    "name": "ipython",
    "version": 3
   },
   "file_extension": ".py",
   "mimetype": "text/x-python",
   "name": "python",
   "nbconvert_exporter": "python",
   "pygments_lexer": "ipython3",
   "version": "3.9.5"
  },
  "orig_nbformat": 4
 },
 "nbformat": 4,
 "nbformat_minor": 2
}

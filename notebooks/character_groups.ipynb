{
 "cells": [
  {
   "cell_type": "code",
   "execution_count": 1,
   "metadata": {},
   "outputs": [],
   "source": [
    "import unicodedata\n",
    "from collections import defaultdict as dd\n",
    "from collections import Counter"
   ]
  },
  {
   "cell_type": "code",
   "execution_count": 2,
   "metadata": {},
   "outputs": [],
   "source": [
    "with open(\"../data/znaki_wikipedii.txt\", \"rt\") as f:\n",
    "    content = f.read()"
   ]
  },
  {
   "cell_type": "code",
   "execution_count": 3,
   "metadata": {},
   "outputs": [],
   "source": [
    "categories = dd(list)"
   ]
  },
  {
   "cell_type": "code",
   "execution_count": 4,
   "metadata": {},
   "outputs": [],
   "source": [
    "for char in content.split():\n",
    "    categories[unicodedata.category(char)].append(char)"
   ]
  },
  {
   "cell_type": "code",
   "execution_count": 5,
   "metadata": {},
   "outputs": [],
   "source": [
    "for char in categories[\"Ll\"]:\n",
    "    categories[\"Ll \" + unicodedata.name(char).split()[0]].append(char)\n",
    "del categories[\"Ll\"]"
   ]
  },
  {
   "cell_type": "code",
   "execution_count": 6,
   "metadata": {},
   "outputs": [],
   "source": [
    "for char in categories[\"Lu\"]:\n",
    "    categories[\"Lu \" + unicodedata.name(char).split()[0]].append(char)\n",
    "del categories[\"Lu\"]"
   ]
  },
  {
   "cell_type": "code",
   "execution_count": 7,
   "metadata": {},
   "outputs": [],
   "source": [
    "for char in categories[\"Lo\"]:\n",
    "    categories[\"Lo \" + unicodedata.name(char).split()[0]].append(char)\n",
    "del categories[\"Lo\"]"
   ]
  },
  {
   "cell_type": "code",
   "execution_count": 8,
   "metadata": {},
   "outputs": [],
   "source": [
    "for char in categories[\"Lo\"]:\n",
    "    categories[\"Lo \" + unicodedata.name(char).split()[0]].append(char)\n",
    "del categories[\"Lo\"]"
   ]
  },
  {
   "cell_type": "code",
   "execution_count": 9,
   "metadata": {},
   "outputs": [
    {
     "data": {
      "text/plain": [
       "[('BRAILLE PATTERN', 64),\n",
       " ('BOX DRAWINGS', 46),\n",
       " ('MAHJONG TILE', 14),\n",
       " ('CIRCLED LATIN', 11),\n",
       " ('TRIGRAM FOR', 8),\n",
       " ('APL FUNCTIONAL', 4)]"
      ]
     },
     "execution_count": 9,
     "metadata": {},
     "output_type": "execute_result"
    }
   ],
   "source": [
    "counter = Counter()\n",
    "\n",
    "for c in categories[\"So\"]:\n",
    "    counter[\" \".join((unicodedata.name(c).split()[:2]))] += 1\n",
    "counter.most_common(6)"
   ]
  },
  {
   "cell_type": "code",
   "execution_count": 10,
   "metadata": {},
   "outputs": [],
   "source": [
    "for pattern, count in counter.most_common(4):\n",
    "    for c in categories[\"So\"]:\n",
    "        if unicodedata.name(c).startswith(pattern):\n",
    "            categories[f\"So {pattern}\"].append(c)\n",
    "    for c in categories[f\"So {pattern}\"]:\n",
    "        categories[\"So\"].remove(c)"
   ]
  },
  {
   "cell_type": "code",
   "execution_count": 11,
   "metadata": {},
   "outputs": [
    {
     "data": {
      "text/plain": [
       "[('COMBINING', 122),\n",
       " ('TIBETAN', 34),\n",
       " ('HEBREW', 31),\n",
       " ('ARABIC', 31),\n",
       " ('DEVANAGARI', 21),\n",
       " ('MYANMAR', 19),\n",
       " ('KHMER', 18),\n",
       " ('THAI', 16),\n",
       " ('TELUGU', 15),\n",
       " ('GURMUKHI', 14),\n",
       " ('GUJARATI', 13),\n",
       " ('LAO', 12),\n",
       " ('THAANA', 11),\n",
       " ('ORIYA', 11),\n",
       " ('BENGALI', 9),\n",
       " ('MALAYALAM', 8),\n",
       " ('KANNADA', 8),\n",
       " ('SYRIAC', 7),\n",
       " ('SINHALA', 5),\n",
       " ('TAMIL', 3),\n",
       " ('VARIATION', 3),\n",
       " ('JAVANESE', 3),\n",
       " ('BUGINESE', 2),\n",
       " ('SAURASHTRA', 1),\n",
       " ('MONGOLIAN', 1),\n",
       " ('TAGALOG', 1),\n",
       " ('LIMBU', 1)]"
      ]
     },
     "execution_count": 11,
     "metadata": {},
     "output_type": "execute_result"
    }
   ],
   "source": [
    "counter = Counter()\n",
    "\n",
    "for c in categories[\"Mn\"]:\n",
    "    counter[\" \".join((unicodedata.name(c).split()[:1]))] += 1\n",
    "counter.most_common()"
   ]
  },
  {
   "cell_type": "code",
   "execution_count": 12,
   "metadata": {},
   "outputs": [],
   "source": [
    "for pattern, count in counter.most_common()[1:]:\n",
    "    for c in filter(lambda c: unicodedata.name(c).count(pattern), categories[\"Mn\"]):\n",
    "        categories[f\"Mn {pattern}\"].append(c)\n",
    "    for c in categories[f\"Mn {pattern}\"]:\n",
    "        categories[f\"Mn\"].remove(c)"
   ]
  },
  {
   "cell_type": "code",
   "execution_count": 13,
   "metadata": {},
   "outputs": [
    {
     "data": {
      "text/plain": [
       "[('', 10),\n",
       " ('FULLWIDTH ', 10),\n",
       " ('ARABIC-INDIC ', 10),\n",
       " ('DEVANAGARI ', 10),\n",
       " ('THAI ', 10),\n",
       " ('EXTENDED ARABIC-INDIC ', 10),\n",
       " ('KHMER ', 10),\n",
       " ('BENGALI ', 10),\n",
       " ('GURMUKHI ', 10),\n",
       " ('GUJARATI ', 10),\n",
       " ('ORIYA ', 10),\n",
       " ('TAMIL ', 10),\n",
       " ('TELUGU ', 10),\n",
       " ('KANNADA ', 10),\n",
       " ('MALAYALAM ', 10),\n",
       " ('LAO ', 10),\n",
       " ('TIBETAN ', 10),\n",
       " ('MYANMAR ', 10),\n",
       " ('MONGOLIAN ', 10),\n",
       " ('LIMBU ', 10),\n",
       " ('NEW TAI LUE ', 10)]"
      ]
     },
     "execution_count": 13,
     "metadata": {},
     "output_type": "execute_result"
    }
   ],
   "source": [
    "counter = Counter()\n",
    "\n",
    "for c in categories[\"Nd\"]:\n",
    "    counter[\" \".join((unicodedata.name(c).split(\"DIGIT\")[:1]))] += 1\n",
    "counter.most_common()"
   ]
  },
  {
   "cell_type": "code",
   "execution_count": 14,
   "metadata": {},
   "outputs": [],
   "source": [
    "for pattern, count in counter.items():\n",
    "    if pattern != \"\":\n",
    "        for c in categories[\"Nd\"]:\n",
    "            if unicodedata.name(c).startswith(pattern):\n",
    "                categories[f\"Nd {pattern}\"].append(c)\n",
    "        for c in categories[f\"Nd {pattern}\"]:\n",
    "            categories[\"Nd\"].remove(c)"
   ]
  },
  {
   "cell_type": "code",
   "execution_count": 15,
   "metadata": {},
   "outputs": [
    {
     "data": {
      "text/plain": [
       "[('Lo CJK', 5861),\n",
       " ('Lo HANGUL', 1174),\n",
       " ('Ll LATIN', 520),\n",
       " ('Lu LATIN', 368),\n",
       " ('So', 339),\n",
       " ('Lo ARABIC', 265),\n",
       " ('Lo ETHIOPIC', 239),\n",
       " ('Lo CANADIAN', 159),\n",
       " ('Ll GREEK', 148),\n",
       " ('Ll CYRILLIC', 147),\n",
       " ('Lu CYRILLIC', 147),\n",
       " ('Sm', 129),\n",
       " ('Po', 123),\n",
       " ('Mc', 122),\n",
       " ('Mn', 104),\n",
       " ('Lo KATAKANA', 96),\n",
       " ('No', 95),\n",
       " ('Lu GREEK', 88),\n",
       " ('Lo HIRAGANA', 86),\n",
       " ('Lo DEVANAGARI', 79),\n",
       " ('Lm', 77),\n",
       " ('Ll GEORGIAN', 74),\n",
       " ('So BRAILLE PATTERN', 64),\n",
       " ('Lo MALAYALAM', 62),\n",
       " ('Lo LINEAR', 59),\n",
       " ('Lo THAI', 56),\n",
       " ('Lo TELUGU', 55),\n",
       " ('Lo MYANMAR', 55),\n",
       " ('Lo KANNADA', 55),\n",
       " ('Lo SINHALA', 55),\n",
       " ('Lo TIFINAGH', 54),\n",
       " ('Lo GUJARATI', 52),\n",
       " ('Lo BENGALI', 51),\n",
       " ('Lo ORIYA', 51),\n",
       " ('Lo KHMER', 49),\n",
       " ('So BOX DRAWINGS', 46),\n",
       " ('Lo GURMUKHI', 45),\n",
       " ('Ll ARMENIAN', 39),\n",
       " ('Lo LAO', 39),\n",
       " ('Mn DEVANAGARI', 39),\n",
       " ('Sc', 38),\n",
       " ('Lu ARMENIAN', 38),\n",
       " ('Lu GEORGIAN', 38),\n",
       " ('Lo BOPOMOFO', 38),\n",
       " ('Lo THAANA', 38),\n",
       " ('Lo TAMIL', 37),\n",
       " ('Lo TIBETAN', 36),\n",
       " ('Sk', 34),\n",
       " ('Lo RUNIC', 34),\n",
       " ('Lo MONGOLIAN', 34),\n",
       " ('Lo HALFWIDTH', 34),\n",
       " ('Mn TIBETAN', 34),\n",
       " ('Cc', 31),\n",
       " ('Lo HEBREW', 31),\n",
       " ('Mn HEBREW', 31),\n",
       " ('Mn ARABIC', 31),\n",
       " ('Nl', 30),\n",
       " ('Lo UGARITIC', 29),\n",
       " ('Lo NKO', 27),\n",
       " ('Lu FULLWIDTH', 26),\n",
       " ('Lo SYRIAC', 26),\n",
       " ('Ps', 25),\n",
       " ('Ll FULLWIDTH', 25),\n",
       " ('Lo GOTHIC', 23),\n",
       " ('Pe', 22),\n",
       " ('Co', 22),\n",
       " ('Mn MYANMAR', 19),\n",
       " ('Cf', 18),\n",
       " ('Mn KHMER', 18),\n",
       " ('Mn THAI', 16),\n",
       " ('Lt', 15),\n",
       " ('Lu CHEROKEE', 15),\n",
       " ('Mn TELUGU', 15),\n",
       " ('So MAHJONG TILE', 14),\n",
       " ('Mn GURMUKHI', 14),\n",
       " ('Pd', 13),\n",
       " ('Ll COPTIC', 13),\n",
       " ('Mn GUJARATI', 13),\n",
       " ('Lo PHOENICIAN', 12),\n",
       " ('Mn LAO', 12),\n",
       " ('So CIRCLED LATIN', 11),\n",
       " ('Mn THAANA', 11),\n",
       " ('Mn ORIYA', 11),\n",
       " ('Nd', 10),\n",
       " ('Nd FULLWIDTH ', 10),\n",
       " ('Nd ARABIC-INDIC ', 10),\n",
       " ('Nd DEVANAGARI ', 10),\n",
       " ('Nd THAI ', 10),\n",
       " ('Nd EXTENDED ARABIC-INDIC ', 10),\n",
       " ('Nd KHMER ', 10),\n",
       " ('Nd BENGALI ', 10),\n",
       " ('Nd GURMUKHI ', 10),\n",
       " ('Nd GUJARATI ', 10),\n",
       " ('Nd ORIYA ', 10),\n",
       " ('Nd TAMIL ', 10),\n",
       " ('Nd TELUGU ', 10),\n",
       " ('Nd KANNADA ', 10),\n",
       " ('Nd MALAYALAM ', 10),\n",
       " ('Nd LAO ', 10),\n",
       " ('Nd TIBETAN ', 10),\n",
       " ('Nd MYANMAR ', 10),\n",
       " ('Nd MONGOLIAN ', 10),\n",
       " ('Nd LIMBU ', 10),\n",
       " ('Nd NEW TAI LUE ', 10),\n",
       " ('Lu MATHEMATICAL', 9),\n",
       " ('Mn BENGALI', 9),\n",
       " ('Ll MATHEMATICAL', 8),\n",
       " ('Lu COPTIC', 8),\n",
       " ('Mn MALAYALAM', 8),\n",
       " ('Mn KANNADA', 8),\n",
       " ('Lu DOUBLE-STRUCK', 7),\n",
       " ('Mn SYRIAC', 7),\n",
       " ('Pi', 6),\n",
       " ('Lo LATIN', 6),\n",
       " ('Lo INSCRIPTIONAL', 6),\n",
       " ('Lo BUGINESE', 6),\n",
       " ('Lu SCRIPT', 5),\n",
       " ('Lo PHAGS-PA', 5),\n",
       " ('Mn SINHALA', 5),\n",
       " ('Pc', 4),\n",
       " ('Pf', 4),\n",
       " ('Lo JAVANESE', 4),\n",
       " ('Lo SAURASHTRA', 4),\n",
       " ('Mn VARIATION', 4),\n",
       " ('Lu BLACK-LETTER', 3),\n",
       " ('Mn TAMIL', 3),\n",
       " ('Mn JAVANESE', 3),\n",
       " ('Me', 2),\n",
       " ('Ll SCRIPT', 2),\n",
       " ('Lu GLAGOLITIC', 2),\n",
       " ('Lo YI', 2),\n",
       " ('Mn BUGINESE', 2),\n",
       " ('Cn', 1),\n",
       " ('Ll MICRO', 1),\n",
       " ('Ll PLANCK', 1),\n",
       " ('Ll DESERET', 1),\n",
       " ('Ll TURNED', 1),\n",
       " ('Lu ROMAN', 1),\n",
       " ('Lu TURNED', 1),\n",
       " ('Lo FEMININE', 1),\n",
       " ('Lo MASCULINE', 1),\n",
       " ('Lo ALEF', 1),\n",
       " ('Lo CYRILLIC', 1),\n",
       " ('Lo OLD', 1),\n",
       " ('Lo TAGALOG', 1),\n",
       " ('Lo LIMBU', 1),\n",
       " ('Lo TAI', 1),\n",
       " ('Mn SAURASHTRA', 1),\n",
       " ('Mn TAGALOG', 1),\n",
       " ('Mn LIMBU', 1),\n",
       " ('Mn MONGOLIAN', 0)]"
      ]
     },
     "execution_count": 15,
     "metadata": {},
     "output_type": "execute_result"
    }
   ],
   "source": [
    "sorted({k: len(v) for k, v in categories.items()}.items(), key=lambda i: -i[1])"
   ]
  },
  {
   "cell_type": "code",
   "execution_count": 16,
   "metadata": {},
   "outputs": [],
   "source": [
    "with open(\"character_groups.txt\", \"wt\") as f:\n",
    "    for name, chars in sorted(categories.items(), key=lambda i: i[0]):\n",
    "        f.write(name + \": \")\n",
    "        f.write(\" \".join(sorted(chars, key=lambda c: ord(c))))\n",
    "        f.write(\"\\n\")"
   ]
  }
 ],
 "metadata": {
  "interpreter": {
   "hash": "e10d8761d460a58c74b37693efebb76e1438d903d92f15b2b3c03e822d0a63b9"
  },
  "kernelspec": {
   "display_name": "Python 3.9.5 ('env': venv)",
   "language": "python",
   "name": "python3"
  },
  "language_info": {
   "codemirror_mode": {
    "name": "ipython",
    "version": 3
   },
   "file_extension": ".py",
   "mimetype": "text/x-python",
   "name": "python",
   "nbconvert_exporter": "python",
   "pygments_lexer": "ipython3",
   "version": "3.9.5"
  },
  "orig_nbformat": 4
 },
 "nbformat": 4,
 "nbformat_minor": 2
}

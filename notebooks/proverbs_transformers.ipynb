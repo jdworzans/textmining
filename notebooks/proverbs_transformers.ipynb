{
 "cells": [
  {
   "cell_type": "code",
   "execution_count": 7,
   "metadata": {},
   "outputs": [],
   "source": [
    "import re\n",
    "from itertools import chain\n",
    "\n",
    "import torch\n",
    "from transformers import AutoTokenizer, AutoModelForQuestionAnswering\n",
    "\n",
    "from textmining.lemmatization import Lemmas\n",
    "from textmining.tokenization import tokenize"
   ]
  },
  {
   "cell_type": "code",
   "execution_count": 2,
   "metadata": {},
   "outputs": [],
   "source": [
    "lemmas = Lemmas.from_file()"
   ]
  },
  {
   "cell_type": "code",
   "execution_count": 3,
   "metadata": {},
   "outputs": [
    {
     "name": "stderr",
     "output_type": "stream",
     "text": [
      "Downloading: 100%|██████████| 679M/679M [00:23<00:00, 30.7MB/s] \n"
     ]
    }
   ],
   "source": [
    "tokenizer = AutoTokenizer.from_pretrained(\"henryk/bert-base-multilingual-cased-finetuned-polish-squad2\")\n",
    "model = AutoModelForQuestionAnswering.from_pretrained(\"henryk/bert-base-multilingual-cased-finetuned-polish-squad2\")"
   ]
  },
  {
   "cell_type": "code",
   "execution_count": 20,
   "metadata": {},
   "outputs": [
    {
     "data": {
      "text/plain": [
       "'[CLS] Dokończ przysłowie : „ pierwsze koty za... [UNK] [SEP] pierwsze koty za płoty [SEP]'"
      ]
     },
     "execution_count": 20,
     "metadata": {},
     "output_type": "execute_result"
    }
   ],
   "source": [
    "tokenizer.decode(inputs.input_ids[0])"
   ]
  },
  {
   "cell_type": "code",
   "execution_count": 83,
   "metadata": {},
   "outputs": [
    {
     "data": {
      "text/plain": [
       "'Olbrachta'"
      ]
     },
     "execution_count": 83,
     "metadata": {},
     "output_type": "execute_result"
    }
   ],
   "source": [
    "question, text = \"Za panowania którego polskiego króla według przysłowia wyginęła szlachta?\", \"za króla Olbrachta wyginęła szlachta\"\n",
    "inputs = tokenizer(question, text, return_tensors=\"pt\")\n",
    "with torch.no_grad():\n",
    "    outputs = model(**inputs)\n",
    "\n",
    "answer_start_index = outputs.start_logits.argmax()\n",
    "answer_end_index = outputs.end_logits.argmax()\n",
    "\n",
    "predict_answer_tokens = inputs.input_ids[0, answer_start_index : answer_end_index + 1]\n",
    "tokenizer.decode(predict_answer_tokens)"
   ]
  },
  {
   "cell_type": "code",
   "execution_count": 33,
   "metadata": {},
   "outputs": [],
   "source": [
    "def is_proverb_question(question: str):\n",
    "    if set(chain.from_iterable(map(lemmas.lemmatize, tokenize(question.lower())))).intersection(lemmas.lemmatize(\"przysłowie\")):\n",
    "        return True\n",
    "    return False"
   ]
  },
  {
   "cell_type": "code",
   "execution_count": 48,
   "metadata": {},
   "outputs": [],
   "source": [
    "with open(\"data/proverbs.txt\") as f:\n",
    "    PROVERBS = f.read()"
   ]
  },
  {
   "cell_type": "code",
   "execution_count": null,
   "metadata": {},
   "outputs": [],
   "source": [
    "def normalize(text: str):\n",
    "    return \" \".join(tokenize(text))"
   ]
  },
  {
   "cell_type": "code",
   "execution_count": 217,
   "metadata": {},
   "outputs": [],
   "source": [
    "from sklearn.feature_extraction.text import TfidfVectorizer\n",
    "\n",
    "def _tfidf_tokenize(text: str):\n",
    "    return list(chain.from_iterable([lemmas.lemmatize(token) for token in tokenize(text.lower())]))\n",
    "\n",
    "TFIDF_VECTORIZER = TfidfVectorizer(tokenizer=_tfidf_tokenize)\n",
    "PROVERBS_TFIDF = TFIDF_VECTORIZER.fit_transform(PROVERBS.strip().splitlines())\n",
    "\n",
    "def get_most_similar_proverbs(question: str, k: int = 10):\n",
    "    question_tfidf = TFIDF_VECTORIZER.transform([question])\n",
    "    terms_idxs = question_tfidf.nonzero()[1]\n",
    "    proverbs_tfidf_sum = PROVERBS_TFIDF[:, terms_idxs].sum(1).A1\n",
    "    best_proverbs_idxs = proverbs_tfidf_sum.argsort()[-1:-k:-1]\n",
    "    return \" [SEP] \".join(PROVERBS.strip().splitlines()[idx] for idx in best_proverbs_idxs)"
   ]
  },
  {
   "cell_type": "code",
   "execution_count": 235,
   "metadata": {},
   "outputs": [],
   "source": [
    "def handle_proverb_question(question):\n",
    "    question_lemmas = set(chain.from_iterable(map(lemmas.lemmatize, tokenize(question.lower()))))\n",
    "\n",
    "    if question_lemmas.intersection(lemmas.lemmatize(\"dokończ\")):\n",
    "        match = re.search(\"„(?P<name>.*)...”\", question.lower())\n",
    "        if match:\n",
    "            beginning = match[\"name\"]\n",
    "            beginning_match = re.search(f\"^{beginning}(?P<name>.*)$\", PROVERBS.lower(), flags=re.MULTILINE)\n",
    "            if beginning_match:\n",
    "                return normalize(beginning_match[\"name\"])\n",
    "\n",
    "    most_similar = get_most_similar_proverbs(question.lower())\n",
    "    inputs = tokenizer(question.lower(), most_similar, return_tensors=\"pt\")\n",
    "    with torch.no_grad():\n",
    "        outputs = model(**inputs)\n",
    "\n",
    "    answer_start_index = outputs.start_logits.argmax()\n",
    "    if answer_start_index != 0:\n",
    "        offset = outputs.end_logits[0, answer_start_index:].argmax()\n",
    "\n",
    "        predict_answer_tokens = inputs.input_ids[0, answer_start_index : answer_start_index + offset + 1]\n",
    "        return(tokenizer.decode(predict_answer_tokens))\n",
    "    return None"
   ]
  },
  {
   "cell_type": "code",
   "execution_count": 236,
   "metadata": {},
   "outputs": [
    {
     "name": "stdout",
     "output_type": "stream",
     "text": [
      "ponieśli i wilka\n",
      "Olbrachta\n"
     ]
    }
   ],
   "source": [
    "print(handle_proverb_question(\"Proszę dokończyć przysłowie: „nosił wilk razy kilka...”\"))\n",
    "print(handle_proverb_question(\"Za panowania którego polskiego króla według przysłowia wyginęła szlachta?\"))"
   ]
  },
  {
   "cell_type": "code",
   "execution_count": 237,
   "metadata": {},
   "outputs": [
    {
     "name": "stdout",
     "output_type": "stream",
     "text": [
      "Q: Według przysłowia nos jest dla tabakiery czy tabakiera dla nosa? A: None (Correct: tabakiera dla nosa )\n",
      "Q: Dokończ przysłowie: „dobry zwyczaj: nie...”? A: None (Correct: pożyczaj )\n",
      "Q: Co według przysłowia służy za przewodnika? A: None (Correct: koniec języka )\n",
      "Q: Dokończ przysłowie: „pierwsze koty za...” A: płoty (Correct: płoty )\n",
      "Q: Czego według przysłowia pragnie kania? A: None (Correct: dżdżu )\n",
      "Q: Czego według przysłowia wart jest pac? A: None (Correct: pałaca )\n",
      "Q: Które zwierzę według przysłowia chodzi swoimi własnymi ścieżkami? A: None (Correct: kot )\n",
      "Q: Proszę dokończyć przysłowie: „nosił wilk razy kilka...” A: ponieśli i wilka (Correct: ponieśli i wilka )\n",
      "Q: Za panowania którego polskiego króla według przysłowia wyginęła szlachta? A: Olbrachta (Correct: Jana Olbrachta )\n"
     ]
    }
   ],
   "source": [
    "with open(\"data/poleval/pytania.txt\", \"rt\") as f_q, open(\"data/poleval/odpowiedzi.txt\", \"rt\") as f_a:\n",
    "    for q, a in zip(f_q.readlines(), f_a.readlines()):\n",
    "        if set(chain.from_iterable(map(lemmas.lemmatize, tokenize(q.lower())))).intersection(lemmas.lemmatize(\"przysłowie\")):\n",
    "            print(\"Q:\", q.strip(), \"A:\", handle_proverb_question(q), \"(Correct:\", a.strip(), \")\")"
   ]
  }
 ],
 "metadata": {
  "kernelspec": {
   "display_name": "Python 3.9.12 ('env': venv)",
   "language": "python",
   "name": "python3"
  },
  "language_info": {
   "codemirror_mode": {
    "name": "ipython",
    "version": 3
   },
   "file_extension": ".py",
   "mimetype": "text/x-python",
   "name": "python",
   "nbconvert_exporter": "python",
   "pygments_lexer": "ipython3",
   "version": "3.9.12"
  },
  "orig_nbformat": 4,
  "vscode": {
   "interpreter": {
    "hash": "47a669a0e471d4756fe20c14071a07f35b7a7c22e89826b8f28eaa027eaee5d6"
   }
  }
 },
 "nbformat": 4,
 "nbformat_minor": 2
}
